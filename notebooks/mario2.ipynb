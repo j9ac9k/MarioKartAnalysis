{
 "cells": [
  {
   "cell_type": "markdown",
   "metadata": {
    "colab_type": "text",
    "id": "FI32NDNEUhts"
   },
   "source": [
    "Partially complete import of Ks files and output to stats.csv\n"
   ]
  },
  {
   "cell_type": "code",
   "execution_count": 0,
   "metadata": {
    "colab": {},
    "colab_type": "code",
    "id": "ccTsndOdGN3_"
   },
   "outputs": [],
   "source": [
    "%matplotlib inline\n",
    "\n",
    "import pandas as pd\n",
    "import numpy as np\n",
    "import matplotlib.pyplot as plt\n",
    "import seaborn as sns\n",
    "import itertools as it\n",
    "\n",
    "\n",
    "from sklearn.cluster import KMeans\n",
    "\n",
    "bodies = pd.read_csv('correctedframes.csv')\n",
    "chars = pd.read_csv('correctedchars.csv')\n",
    "gliders = pd.read_csv('correctedgliders.csv')\n",
    "tires = pd.read_csv('correctedtires.csv')\n",
    "\n",
    "# use only stock (non-DLC) characters / karts / tires\n",
    "#chars = chars.loc[chars['DLC']==0]\n",
    "#bodies = bodies.loc[bodies['DLC']==0]\n",
    "#tires = tires.loc[tires['DLC']==0]\n",
    "#gliders = gliders.loc[gliders['DLC']==0]\n",
    "\n",
    "stat_cols = bodies.columns[3:-1]\n",
    "main_cols = ['Weight','Speed','Acceleration','Handling','Traction']\n",
    "\n",
    "# lots of characters/karts/tires are exactly the same. here we just want one from each stat type\n",
    "chars_unique = chars.drop_duplicates(subset=stat_cols).set_index('CBTG')[stat_cols]\n",
    "bodies_unique = bodies.drop_duplicates(subset=stat_cols).set_index('CBTG')[stat_cols]\n",
    "tires_unique = tires.drop_duplicates(subset=stat_cols).set_index('CBTG')[stat_cols]\n",
    "gliders_unique = gliders.drop_duplicates(subset=stat_cols).set_index('CBTG')[stat_cols]\n",
    "\n",
    "\n",
    "\n"
   ]
  },
  {
   "cell_type": "code",
   "execution_count": 0,
   "metadata": {
    "colab": {},
    "colab_type": "code",
    "id": "5cSx8o85GN4K"
   },
   "outputs": [],
   "source": [
    "combos=[]\n",
    "\n",
    "body_names=bodies_unique.index\n",
    "\n",
    "tire_names=tires_unique.index\n",
    "\n",
    "char_names=chars_unique.index\n",
    "\n",
    "glider_names=gliders_unique.index\n",
    "\n",
    "for body in body_names:\n",
    "    for tire in tire_names:\n",
    "        for char in char_names: \n",
    "            for glider in glider_names: \n",
    "                thiscombo=(char,body,tire,glider)\n",
    "                combos.append(thiscombo)\n",
    "\n",
    "stats=pd.DataFrame(columns=['speed','accel','hand'], index=combos)\n",
    "\n",
    "\n",
    "for combo in combos:\n",
    "    #print(combo)\n",
    "    char=combo[0]\n",
    "    body=combo[1]\n",
    "    tire=combo[2]\n",
    "    glider=combo[3]\n",
    "    speed=sum([gliders_unique.loc[glider,'Speed'],bodies_unique.loc[body,'Speed'],tires_unique.loc[tire,'Speed'],chars_unique.loc[char,'Speed']] )\n",
    "    accel= sum([gliders_unique.loc[glider,'Acceleration'],bodies_unique.loc[body,'Acceleration'],tires_unique.loc[tire,'Acceleration'],chars_unique.loc[char,'Acceleration'] ])\n",
    "    hand= sum([gliders_unique.loc[glider,'Handling'],bodies_unique.loc[body,'Handling'],tires_unique.loc[tire,'Handling'],chars_unique.loc[char,'Handling'] ])\n",
    "    \n",
    "    index=combo\n",
    "#    print(index)\n",
    "    stats.loc[(index),'speed':'hand']= [speed, accel, hand]\n",
    "#    stats.loc[(index),'accel']=accel\n",
    "#   stats.loc[(index),'hand']=hand\n",
    "#    print(speed, accel, hand)"
   ]
  },
  {
   "cell_type": "code",
   "execution_count": 0,
   "metadata": {
    "colab": {},
    "colab_type": "code",
    "id": "b0VOsb4FGN4Q"
   },
   "outputs": [],
   "source": [
    "stats.to_csv('stats.csv')"
   ]
  },
  {
   "cell_type": "code",
   "execution_count": 0,
   "metadata": {
    "colab": {},
    "colab_type": "code",
    "id": "njlQjbYVGN4W"
   },
   "outputs": [],
   "source": [
    "maxes=[max(stats.loc[:,'speed']),max(stats.loc[:,'accel']),max(stats.loc[:,'hand'])]\n",
    "\n",
    "print(maxes)\n",
    "def is_pareto_front(row, maxes):\n",
    "    cols=len(row)\n",
    "    for i in range(0,3):\n",
    "        if row[i]==maxes[i]:\n",
    "            return True\n",
    "    return False\n",
    "\n",
    "\n",
    "\n",
    "import numpy as np\n",
    "\n",
    "\n",
    "def is_pareto_efficient_dumb(costs):\n",
    "    \"\"\"\n",
    "    :param costs: An (n_points, n_costs) array\n",
    "    :return: A (n_points, ) boolean array, indicating whether each point is Pareto efficient\n",
    "    \"\"\"\n",
    "    is_efficient = np.ones(costs.shape[0], dtype = bool)\n",
    "    for i, c in enumerate(costs):\n",
    "        is_efficient[i] = np.all(np.any(costs>=c, axis=1))\n",
    "    return is_efficient\n",
    "\n",
    "\n",
    "pareto=pd.DataFrame()\n",
    "\n",
    "for index,row in stats.iterrows():\n",
    "#    print(index,row)\n",
    "    if is_pareto_front(row, maxes):\n",
    "        print(index,row)\n",
    "        pareto[index]=row\n",
    "        \n",
    "pareto"
   ]
  },
  {
   "cell_type": "code",
   "execution_count": 0,
   "metadata": {
    "colab": {},
    "colab_type": "code",
    "id": "1tkNjpM7GN4c"
   },
   "outputs": [],
   "source": [
    "from mpl_toolkits.mplot3d import Axes3D\n",
    "import matplotlib.pyplot as plt\n",
    "\n",
    "\n",
    "\n",
    "fig = plt.figure()\n",
    "ax = fig.add_subplot(221, projection='3d')\n",
    "\n",
    "x = stats.loc[:,'speed']\n",
    "y =stats.loc[:,'accel']\n",
    "z =stats.loc[:,'hand']\n",
    "\n",
    "ax.scatter(x, y, z, c='r', marker='o')\n",
    "\n",
    "ax.set_xlabel('speed')\n",
    "ax.set_ylabel('accel')\n",
    "ax.set_zlabel('hand')\n",
    "\n",
    "axy=fig.add_subplot(222)\n",
    "axy.scatter(x, y)\n",
    "\n",
    "ayz=fig.add_subplot(223)\n",
    "ayz.scatter(y, z)\n",
    "\n",
    "axz=fig.add_subplot(224)\n",
    "axz.scatter(x, z)\n",
    "\n",
    "\n",
    "plt.show()"
   ]
  }
 ],
 "metadata": {
  "colab": {
   "collapsed_sections": [],
   "name": "mario2.ipynb",
   "provenance": [],
   "version": "0.3.2"
  },
  "kernelspec": {
   "display_name": "Python 3",
   "language": "python",
   "name": "python3"
  },
  "language_info": {
   "codemirror_mode": {
    "name": "ipython",
    "version": 3
   },
   "file_extension": ".py",
   "mimetype": "text/x-python",
   "name": "python",
   "nbconvert_exporter": "python",
   "pygments_lexer": "ipython3",
   "version": "3.7.0"
  }
 },
 "nbformat": 4,
 "nbformat_minor": 1
}
